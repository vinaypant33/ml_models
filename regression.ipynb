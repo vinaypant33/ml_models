{
 "cells": [
  {
   "cell_type": "code",
   "execution_count": 7,
   "id": "f790d659",
   "metadata": {},
   "outputs": [],
   "source": [
    "import pandas as pd"
   ]
  },
  {
   "cell_type": "code",
   "execution_count": 8,
   "id": "598988f6",
   "metadata": {},
   "outputs": [],
   "source": [
    "import yfinance as yf\n",
    "\n",
    "df  = yf.Ticker('AAPL')\n",
    "\n",
    "df  = df.history(period = \"1mo\")"
   ]
  },
  {
   "cell_type": "code",
   "execution_count": 9,
   "id": "0fcb3401",
   "metadata": {},
   "outputs": [
    {
     "data": {
      "text/html": [
       "<div>\n",
       "<style scoped>\n",
       "    .dataframe tbody tr th:only-of-type {\n",
       "        vertical-align: middle;\n",
       "    }\n",
       "\n",
       "    .dataframe tbody tr th {\n",
       "        vertical-align: top;\n",
       "    }\n",
       "\n",
       "    .dataframe thead th {\n",
       "        text-align: right;\n",
       "    }\n",
       "</style>\n",
       "<table border=\"1\" class=\"dataframe\">\n",
       "  <thead>\n",
       "    <tr style=\"text-align: right;\">\n",
       "      <th></th>\n",
       "      <th>Open</th>\n",
       "      <th>High</th>\n",
       "      <th>Low</th>\n",
       "      <th>Close</th>\n",
       "      <th>Volume</th>\n",
       "      <th>Dividends</th>\n",
       "      <th>Stock Splits</th>\n",
       "    </tr>\n",
       "    <tr>\n",
       "      <th>Date</th>\n",
       "      <th></th>\n",
       "      <th></th>\n",
       "      <th></th>\n",
       "      <th></th>\n",
       "      <th></th>\n",
       "      <th></th>\n",
       "      <th></th>\n",
       "    </tr>\n",
       "  </thead>\n",
       "  <tbody>\n",
       "    <tr>\n",
       "      <th>2025-09-02 00:00:00-04:00</th>\n",
       "      <td>229.250000</td>\n",
       "      <td>230.850006</td>\n",
       "      <td>226.970001</td>\n",
       "      <td>229.720001</td>\n",
       "      <td>44075600</td>\n",
       "      <td>0.0</td>\n",
       "      <td>0.0</td>\n",
       "    </tr>\n",
       "    <tr>\n",
       "      <th>2025-09-03 00:00:00-04:00</th>\n",
       "      <td>237.210007</td>\n",
       "      <td>238.850006</td>\n",
       "      <td>234.360001</td>\n",
       "      <td>238.470001</td>\n",
       "      <td>66427800</td>\n",
       "      <td>0.0</td>\n",
       "      <td>0.0</td>\n",
       "    </tr>\n",
       "    <tr>\n",
       "      <th>2025-09-04 00:00:00-04:00</th>\n",
       "      <td>238.449997</td>\n",
       "      <td>239.899994</td>\n",
       "      <td>236.740005</td>\n",
       "      <td>239.779999</td>\n",
       "      <td>47549400</td>\n",
       "      <td>0.0</td>\n",
       "      <td>0.0</td>\n",
       "    </tr>\n",
       "    <tr>\n",
       "      <th>2025-09-05 00:00:00-04:00</th>\n",
       "      <td>240.000000</td>\n",
       "      <td>241.320007</td>\n",
       "      <td>238.490005</td>\n",
       "      <td>239.690002</td>\n",
       "      <td>54870400</td>\n",
       "      <td>0.0</td>\n",
       "      <td>0.0</td>\n",
       "    </tr>\n",
       "    <tr>\n",
       "      <th>2025-09-08 00:00:00-04:00</th>\n",
       "      <td>239.300003</td>\n",
       "      <td>240.149994</td>\n",
       "      <td>236.339996</td>\n",
       "      <td>237.880005</td>\n",
       "      <td>48999500</td>\n",
       "      <td>0.0</td>\n",
       "      <td>0.0</td>\n",
       "    </tr>\n",
       "  </tbody>\n",
       "</table>\n",
       "</div>"
      ],
      "text/plain": [
       "                                 Open        High         Low       Close  \\\n",
       "Date                                                                        \n",
       "2025-09-02 00:00:00-04:00  229.250000  230.850006  226.970001  229.720001   \n",
       "2025-09-03 00:00:00-04:00  237.210007  238.850006  234.360001  238.470001   \n",
       "2025-09-04 00:00:00-04:00  238.449997  239.899994  236.740005  239.779999   \n",
       "2025-09-05 00:00:00-04:00  240.000000  241.320007  238.490005  239.690002   \n",
       "2025-09-08 00:00:00-04:00  239.300003  240.149994  236.339996  237.880005   \n",
       "\n",
       "                             Volume  Dividends  Stock Splits  \n",
       "Date                                                          \n",
       "2025-09-02 00:00:00-04:00  44075600        0.0           0.0  \n",
       "2025-09-03 00:00:00-04:00  66427800        0.0           0.0  \n",
       "2025-09-04 00:00:00-04:00  47549400        0.0           0.0  \n",
       "2025-09-05 00:00:00-04:00  54870400        0.0           0.0  \n",
       "2025-09-08 00:00:00-04:00  48999500        0.0           0.0  "
      ]
     },
     "execution_count": 9,
     "metadata": {},
     "output_type": "execute_result"
    }
   ],
   "source": [
    "df.head()"
   ]
  },
  {
   "cell_type": "code",
   "execution_count": null,
   "id": "ab73673e",
   "metadata": {},
   "outputs": [],
   "source": []
  }
 ],
 "metadata": {
  "kernelspec": {
   "display_name": "Python 3",
   "language": "python",
   "name": "python3"
  },
  "language_info": {
   "codemirror_mode": {
    "name": "ipython",
    "version": 3
   },
   "file_extension": ".py",
   "mimetype": "text/x-python",
   "name": "python",
   "nbconvert_exporter": "python",
   "pygments_lexer": "ipython3",
   "version": "3.10.11"
  }
 },
 "nbformat": 4,
 "nbformat_minor": 5
}
